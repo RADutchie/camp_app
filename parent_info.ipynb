{
 "cells": [
  {
   "cell_type": "code",
   "execution_count": 1,
   "metadata": {},
   "outputs": [],
   "source": [
    "import pandas as pd\n",
    "import openpyxl\n"
   ]
  },
  {
   "cell_type": "code",
   "execution_count": 2,
   "metadata": {},
   "outputs": [],
   "source": [
    "group1 = pd.read_excel('/home/dutchr/python_code/scripts/parent_camp_info/camp_info/Year 5 Camp Groups 2025.xlsx',sheet_name='GROUP 1', header=1, engine='openpyxl').dropna(axis=0, subset=['Unnamed: 0']).drop(columns=['Unnamed: 0'])\n",
    "group2 = pd.read_excel('/home/dutchr/python_code/scripts/parent_camp_info/camp_info/Year 5 Camp Groups 2025.xlsx',sheet_name='GROUP 2', header=1, engine='openpyxl').dropna(axis=0, subset=['Unnamed: 0']).drop(columns=['Unnamed: 0'])\n",
    "group3 = pd.read_excel('/home/dutchr/python_code/scripts/parent_camp_info/camp_info/Year 5 Camp Groups 2025.xlsx',sheet_name='GROUP 3', header=1, engine='openpyxl').dropna(axis=0, subset=['Unnamed: 0']).drop(columns=['Unnamed: 0'])\n",
    "group4 = pd.read_excel('/home/dutchr/python_code/scripts/parent_camp_info/camp_info/Year 5 Camp Groups 2025.xlsx',sheet_name='GROUP 4', header=1, engine='openpyxl').dropna(axis=0, subset=['Unnamed: 0']).drop(columns=['Unnamed: 0'])\n",
    "#group5 = pd.read_excel('/home/dutchr/python_code/scripts/parent_camp_info/camp_info/Year 8 Camp Groups 2025.xlsx',sheet_name='CAMP 2 GROUP 1', header=1, engine='openpyxl').dropna(axis=0, subset=['Unnamed: 0']).drop(columns=['Unnamed: 0'])\n",
    "#group6 = pd.read_excel('/home/dutchr/python_code/scripts/parent_camp_info/camp_info/Year 8 Camp Groups 2025.xlsx',sheet_name='CAMP 2 GROUP 2', header=1, engine='openpyxl').dropna(axis=0, subset=['Unnamed: 0']).drop(columns=['Unnamed: 0'])\n",
    "#group7 = pd.read_excel('/home/dutchr/python_code/scripts/parent_camp_info/camp_info/Year 8 Camp Groups 2025.xlsx',sheet_name='CAMP 2 GROUP 3', header=1, engine='openpyxl').dropna(axis=0, subset=['Unnamed: 0']).drop(columns=['Unnamed: 0'])\n",
    "#group8 = pd.read_excel('/home/dutchr/python_code/scripts/parent_camp_info/camp_info/Year 8 Camp Groups 2025.xlsx',sheet_name='CAMP 2 GROUP 4', header=1, engine='openpyxl').dropna(axis=0, subset=['Unnamed: 0']).drop(columns=['Unnamed: 0'])"
   ]
  },
  {
   "cell_type": "code",
   "execution_count": 3,
   "metadata": {},
   "outputs": [],
   "source": [
    "cols_to_copy = ['GENDER', 'CLASS', 'CAREGIVER_A', 'A_MOBILE', 'CAREGIVER_B', 'B_MOBILE']"
   ]
  },
  {
   "cell_type": "markdown",
   "metadata": {},
   "source": [
    "above could be PARENT_A as well"
   ]
  },
  {
   "cell_type": "code",
   "execution_count": 4,
   "metadata": {},
   "outputs": [],
   "source": [
    "info = pd.read_excel('/home/dutchr/python_code/scripts/parent_camp_info/camp_info/2025 Year 5 Camp data.xlsx', sheet_name='Sheet2')"
   ]
  },
  {
   "cell_type": "code",
   "execution_count": 5,
   "metadata": {},
   "outputs": [],
   "source": [
    "group1 = group1.map(lambda x: x.strip() if isinstance(x, str) else x)\n",
    "group2 = group2.map(lambda x: x.strip() if isinstance(x, str) else x)\n",
    "group3 = group3.map(lambda x: x.strip() if isinstance(x, str) else x)\n",
    "group4 = group4.map(lambda x: x.strip() if isinstance(x, str) else x)\n",
    "#group5 = group5.map(lambda x: x.strip() if isinstance(x, str) else x)\n",
    "#group6 = group6.map(lambda x: x.strip() if isinstance(x, str) else x)\n",
    "#group7 = group7.map(lambda x: x.strip() if isinstance(x, str) else x)\n",
    "#group8 = group8.map(lambda x: x.strip() if isinstance(x, str) else x)"
   ]
  },
  {
   "cell_type": "code",
   "execution_count": 6,
   "metadata": {},
   "outputs": [],
   "source": [
    "group1_info = pd.merge(group1.drop(columns=cols_to_copy), info[['SURNAME', 'FIRST NAME']+cols_to_copy], on=['SURNAME', 'FIRST NAME'], how='left')\n",
    "group2_info = pd.merge(group2.drop(columns=cols_to_copy), info[['SURNAME', 'FIRST NAME']+cols_to_copy], on=['SURNAME', 'FIRST NAME'], how='left')\n",
    "group3_info = pd.merge(group3.drop(columns=cols_to_copy), info[['SURNAME', 'FIRST NAME']+cols_to_copy], on=['SURNAME', 'FIRST NAME'], how='left')\n",
    "group4_info = pd.merge(group4.drop(columns=cols_to_copy), info[['SURNAME', 'FIRST NAME']+cols_to_copy], on=['SURNAME', 'FIRST NAME'], how='left')\n",
    "#group5_info = pd.merge(group5.drop(columns=cols_to_copy), info[['SURNAME', 'FIRST NAME']+cols_to_copy], on=['SURNAME', 'FIRST NAME'], how='left')\n",
    "#group6_info = pd.merge(group6.drop(columns=cols_to_copy), info[['SURNAME', 'FIRST NAME']+cols_to_copy], on=['SURNAME', 'FIRST NAME'], how='left')\n",
    "#group7_info = pd.merge(group7.drop(columns=cols_to_copy), info[['SURNAME', 'FIRST NAME']+cols_to_copy], on=['SURNAME', 'FIRST NAME'], how='left')\n",
    "#group8_info = pd.merge(group8.drop(columns=cols_to_copy), info[['SURNAME', 'FIRST NAME']+cols_to_copy], on=['SURNAME', 'FIRST NAME'], how='left')"
   ]
  },
  {
   "cell_type": "code",
   "execution_count": 7,
   "metadata": {},
   "outputs": [],
   "source": [
    "with pd.ExcelWriter('/home/dutchr/python_code/scripts/parent_camp_info/group_info.xlsx', engine='openpyxl') as writer:\n",
    "    group1_info.to_excel(writer, sheet_name='CAMP 1 GROUP 1', index=False)\n",
    "    group2_info.to_excel(writer, sheet_name='CAMP 1 GROUP 2', index=False)\n",
    "    group3_info.to_excel(writer, sheet_name='CAMP 1 GROUP 3', index=False)\n",
    "    group4_info.to_excel(writer, sheet_name='CAMP 1 GROUP 4', index=False)\n",
    "    #group5_info.to_excel(writer, sheet_name='CAMP 2 GROUP 1', index=False)\n",
    "    #group6_info.to_excel(writer, sheet_name='CAMP 2 GROUP 2', index=False)\n",
    "    #group7_info.to_excel(writer, sheet_name='CAMP 2 GROUP 3', index=False)\n",
    "    #group8_info.to_excel(writer, sheet_name='CAMP 2 GROUP 4', index=False)"
   ]
  },
  {
   "cell_type": "code",
   "execution_count": null,
   "metadata": {},
   "outputs": [],
   "source": []
  }
 ],
 "metadata": {
  "kernelspec": {
   "display_name": "school",
   "language": "python",
   "name": "python3"
  },
  "language_info": {
   "codemirror_mode": {
    "name": "ipython",
    "version": 3
   },
   "file_extension": ".py",
   "mimetype": "text/x-python",
   "name": "python",
   "nbconvert_exporter": "python",
   "pygments_lexer": "ipython3",
   "version": "3.13.1"
  }
 },
 "nbformat": 4,
 "nbformat_minor": 2
}
